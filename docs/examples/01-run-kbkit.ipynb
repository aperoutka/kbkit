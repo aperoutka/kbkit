{
 "cells": [
  {
   "cell_type": "markdown",
   "id": "4c008439",
   "metadata": {},
   "source": [
    "### Kirkwood-Buff Analysis for Binary System"
   ]
  },
  {
   "cell_type": "code",
   "execution_count": 1,
   "id": "85d11b49",
   "metadata": {},
   "outputs": [],
   "source": [
    "from kbkit import KBPipeline"
   ]
  },
  {
   "cell_type": "code",
   "execution_count": 2,
   "id": "00b007d7",
   "metadata": {},
   "outputs": [],
   "source": [
    "# path to directory containing systems\n",
    "datadir = './test_data/systems' \n",
    "\n",
    "# path to pure component directory\n",
    "pcdir = './test_data/pure_components'\n",
    "\n",
    "# provide molecules mapped to desired name\n",
    "molecule_map = {\n",
    "    \"DMDBP\": \"DBP\",\n",
    "    \"NDODE\": \"Dodecane\",\n",
    "}\n",
    "\n",
    "# which molecule to use for labels on x-axis?\n",
    "x_mol = \"DMDBP\"\n"
   ]
  },
  {
   "cell_type": "code",
   "execution_count": 3,
   "id": "ae7f8a17",
   "metadata": {},
   "outputs": [],
   "source": [
    "# create pipeline for kb analysis\n",
    "pipe = KBPipeline(\n",
    "    base_path=datadir,\n",
    "    pure_component_path=pcdir,\n",
    "    rdf_dir=\"rdf_files_npt\",\n",
    "    ensemble=\"npt\",\n",
    "    x_mol=x_mol,\n",
    "    molecule_map=molecule_map\n",
    ")"
   ]
  },
  {
   "cell_type": "code",
   "execution_count": 4,
   "id": "9d9d9792",
   "metadata": {},
   "outputs": [],
   "source": [
    "# run the pipeline\n",
    "pipe.run()"
   ]
  },
  {
   "cell_type": "code",
   "execution_count": null,
   "id": "2b48a171",
   "metadata": {},
   "outputs": [],
   "source": [
    "# create all figures\n",
    "pipe.make_figures(energy_units=\"kJ/mol\") # figures are stored in systems/kb_analysis"
   ]
  }
 ],
 "metadata": {
  "kernelspec": {
   "display_name": "kbkit",
   "language": "python",
   "name": "python3"
  },
  "language_info": {
   "codemirror_mode": {
    "name": "ipython",
    "version": 3
   },
   "file_extension": ".py",
   "mimetype": "text/x-python",
   "name": "python",
   "nbconvert_exporter": "python",
   "pygments_lexer": "ipython3",
   "version": "3.12.11"
  }
 },
 "nbformat": 4,
 "nbformat_minor": 5
}
